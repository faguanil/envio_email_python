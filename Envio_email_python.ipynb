{
  "nbformat": 4,
  "nbformat_minor": 0,
  "metadata": {
    "colab": {
      "provenance": [],
      "authorship_tag": "ABX9TyOY78HN4jtrR2Zvsp2P9s4b",
      "include_colab_link": true
    },
    "kernelspec": {
      "name": "python3",
      "display_name": "Python 3"
    },
    "language_info": {
      "name": "python"
    }
  },
  "cells": [
    {
      "cell_type": "markdown",
      "metadata": {
        "id": "view-in-github",
        "colab_type": "text"
      },
      "source": [
        "<a href=\"https://colab.research.google.com/github/faguanil/envio_email_python/blob/main/Envio_email_python.ipynb\" target=\"_parent\"><img src=\"https://colab.research.google.com/assets/colab-badge.svg\" alt=\"Open In Colab\"/></a>"
      ]
    },
    {
      "cell_type": "code",
      "execution_count": null,
      "metadata": {
        "id": "ys77VD8_bQ7E"
      },
      "outputs": [],
      "source": [
        "import smtplib\n",
        "from datetime import datetime\n",
        "from email.mime.text import MIMEText\n",
        "\n",
        "#pegando a data e formatando a mesma\n",
        "date = datetime.now()\n",
        "formatted_date = date.strftime('%d/%m/%Y')\n",
        "\n",
        "#formatando a mensagem de envio\n",
        "html = f'''\n",
        "<html>\n",
        "<head></head>\n",
        "<body>\n",
        "<h2><b>Problema ao utilizar esta API.</b></h2><br/>\n",
        "<b>Alerta:</b> A API &lt;nome&gt; está gerando um erro.<br/><br/>\n",
        "<b>Enviado dia:</b> {formatted_date}\n",
        "</body>\n",
        "</html>'''\n",
        "msg = MIMEText(html, 'html')\n",
        "\n",
        "#email e senha do remetente , lembrando que a senha é gerada por aplicativo\n",
        "email_address = 'smartagro.cafe@gmail.com'\n",
        "password = 'qqciswijaroatglm'\n",
        "msg['Subject'] = 'Problema com a API'\n",
        "msg['From'] = email_address\n",
        "#e-mails dos destinatários\n",
        "msg['To'] = 'emerson.carvalho@ifsuldeminas.edu.br,fabio.alves@ifsuldeminas.edu.br'\n",
        "with smtplib.SMTP('smtp.gmail.com', 587) as smtp:\n",
        "    smtp.starttls()\n",
        "    smtp.login(email_address, password)\n",
        "    smtp.send_message(msg)\n",
        "\n",
        "print('Email enviado com sucesso')"
      ]
    }
  ]
}